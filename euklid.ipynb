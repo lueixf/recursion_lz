{
 "cells": [
  {
   "cell_type": "code",
   "execution_count": 6,
   "metadata": {},
   "outputs": [
    {
     "name": "stdout",
     "output_type": "stream",
     "text": [
      "Доброго времени суток. Это алгоритм для подсчета НОДа двух чисел.\n",
      "\n",
      "\n",
      "НОД двух чисел равен: \n",
      "1\n"
     ]
    }
   ],
   "source": [
    "# функция для поиска НОД\n",
    "def gcd (n, k):\n",
    "    if k == 0:\n",
    "        return n\n",
    "    else:\n",
    "        return gcd(k, n%k)\n",
    "\n",
    "\n",
    "# функция main  \n",
    "def main(): \n",
    "    print('Привет. Это алгоритм для подсчета НОД двух чисел.''\\a')\n",
    "    # ввод двух чисел для поиска НОД\n",
    "    n = int(input('Введите первое число: '))\n",
    "    k = int(input('Введите второе число: '))\n",
    "    # вывод полученного НОД \n",
    "    print('\\n''НОД двух чисел равен: ')\n",
    "    print(gcd(n,k)) \n",
    "\n",
    "\n",
    "main() # вызов функции main"
   ]
  }
 ],
 "metadata": {
  "kernelspec": {
   "display_name": "Python 3",
   "language": "python",
   "name": "python3"
  },
  "language_info": {
   "codemirror_mode": {
    "name": "ipython",
    "version": 3
   },
   "file_extension": ".py",
   "mimetype": "text/x-python",
   "name": "python",
   "nbconvert_exporter": "python",
   "pygments_lexer": "ipython3",
   "version": "3.12.3"
  }
 },
 "nbformat": 4,
 "nbformat_minor": 2
}
