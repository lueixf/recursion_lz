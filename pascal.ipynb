{
 "cells": [
  {
   "cell_type": "code",
   "execution_count": 3,
   "metadata": {},
   "outputs": [
    {
     "name": "stdout",
     "output_type": "stream",
     "text": [
      "pascal_triangle ( 1 ) = \n",
      "[[1]]\n"
     ]
    }
   ],
   "source": [
    "# функция для поиска НОД\n",
    "def pascal_triangle(rows):\n",
    "    if rows == 1:  #если аргумент 1, то возвращаем 1\n",
    "        return [[1]]\n",
    "    triangle = pascal_triangle(rows - 1)\n",
    "    last_row = triangle[-1]  #последняя строка из предыдущего треугольника\n",
    "    new_row = [1] + [last_row[i - 1] + last_row[i] for i in range(1, len(last_row))] + [1] #перебираем пары и добавляем по краям единицу\n",
    "    return triangle + [new_row]  #возвращаем новый треугольник\n",
    "\n",
    "# функция main \n",
    "def main():\n",
    "    rows = int(input('Введите число уровней: ')) \n",
    "    print('pascal_triangle (',rows,') = ')    \n",
    "    print(pascal_triangle(rows))\n",
    "\n",
    "\n",
    "main() # вызов функции main"
   ]
  }
 ],
 "metadata": {
  "kernelspec": {
   "display_name": "Python 3",
   "language": "python",
   "name": "python3"
  },
  "language_info": {
   "codemirror_mode": {
    "name": "ipython",
    "version": 3
   },
   "file_extension": ".py",
   "mimetype": "text/x-python",
   "name": "python",
   "nbconvert_exporter": "python",
   "pygments_lexer": "ipython3",
   "version": "3.12.3"
  }
 },
 "nbformat": 4,
 "nbformat_minor": 2
}
